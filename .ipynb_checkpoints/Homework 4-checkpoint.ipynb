{
 "cells": [
  {
   "cell_type": "markdown",
   "metadata": {},
   "source": [
    "# Homework 4 SQL"
   ]
  },
  {
   "cell_type": "markdown",
   "metadata": {},
   "source": [
    "## Question 1 \n",
    "\n",
    "Give a count of all videos currently out."
   ]
  },
  {
   "cell_type": "markdown",
   "metadata": {},
   "source": [
    "code: \n",
    "\n",
    "    SELECT count(*)  \n",
    "    FROM rental\n",
    "    WHERE return_date is null\n"
   ]
  },
  {
   "cell_type": "markdown",
   "metadata": {},
   "source": [
    "return:\n",
    "\n",
    "183\n",
    "\n"
   ]
  },
  {
   "cell_type": "markdown",
   "metadata": {},
   "source": [
    "## Question 2\n",
    "\n",
    "Make a list of all customer names who have videos out and how much they owe."
   ]
  },
  {
   "cell_type": "markdown",
   "metadata": {},
   "source": [
    "code:\n",
    "\n",
    "    SELECT name,\n",
    "           count(*)\n",
    "    FROM rental ,\n",
    "         customer_list\n",
    "    WHERE customer_id = id\n",
    "      AND return_date IS NULL\n",
    "    GROUP BY name\n",
    "    ORDER BY COUNT\n",
    "    "
   ]
  },
  {
   "cell_type": "markdown",
   "metadata": {},
   "source": [
    "Result:\n",
    "\n",
    "![q2](img/hw4/q2.png \"q2\")"
   ]
  },
  {
   "cell_type": "markdown",
   "metadata": {},
   "source": [
    "## Question 3\n",
    "\n",
    "Give the most popular actors by store location."
   ]
  },
  {
   "cell_type": "markdown",
   "metadata": {},
   "source": [
    "code:\n",
    "\n",
    "    SELECT A.first_name,\n",
    "           A.last_name,\n",
    "           I.store_id,\n",
    "           count(*)\n",
    "    FROM Inventory I,\n",
    "         film_actor F,\n",
    "         actor A\n",
    "    WHERE I.film_id = F.film_id\n",
    "      AND F.actor_id = A.actor_id\n",
    "    GROUP BY A.first_name,\n",
    "             A.last_name,\n",
    "             I.store_id\n",
    "    ORDER BY COUNT DESC LIMIT 2\n",
    "\n"
   ]
  },
  {
   "cell_type": "markdown",
   "metadata": {},
   "source": [
    "result:\n",
    "\n",
    "![q3](img/hw4/q3.png \"q3\")"
   ]
  },
  {
   "cell_type": "markdown",
   "metadata": {},
   "source": [
    "## Question 4\n",
    "\n",
    "Using a $1 per day late fee. Find out which users owe the most assuming all rentals are a week long."
   ]
  },
  {
   "cell_type": "markdown",
   "metadata": {},
   "source": [
    "code:\n",
    "\n",
    "    SELECT distinct(name),\n",
    "           rental_days,\n",
    "           rental_days - 7 AS latefees\n",
    "    FROM\n",
    "      (SELECT name, (extract(DAY\n",
    "                             FROM return_date) - extract(DAY\n",
    "                                                         FROM rental_date)) + 30 * (extract(MONTH\n",
    "                                                                                            FROM return_date) - extract(MONTH\n",
    "                                                                                                                        FROM rental_date)) AS rental_days\n",
    "       FROM rental r,\n",
    "            customer_list c\n",
    "       WHERE c.id = r.customer_id\n",
    "         AND return_date IS NOT NULL) NEW\n",
    "    ORDER BY rental_days DESC\n",
    "    "
   ]
  },
  {
   "cell_type": "markdown",
   "metadata": {},
   "source": [
    "return\n",
    "\n",
    "![q4](img/hw4/q4.jpg \"q4\")"
   ]
  },
  {
   "cell_type": "markdown",
   "metadata": {},
   "source": [
    "## Question 5\n",
    "\n",
    "What hour of the day to people rent the most ?"
   ]
  },
  {
   "cell_type": "markdown",
   "metadata": {},
   "source": [
    "code :\n",
    "\n",
    "    SELECT extract(hour\n",
    "                   FROM rental_date) AS rental_hour,\n",
    "           count(*)\n",
    "    FROM rental\n",
    "    GROUP BY rental_hour\n",
    "    ORDER BY count DESC LIMIT 1 \n",
    "  "
   ]
  },
  {
   "cell_type": "markdown",
   "metadata": {},
   "source": [
    "return:\n",
    "\n",
    "15:00\n",
    "\n",
    "count: 887"
   ]
  },
  {
   "cell_type": "markdown",
   "metadata": {
    "collapsed": true
   },
   "source": [
    "## Question 6\n",
    "\n",
    "Which store is more profitable, assuming all movies cost $15 per inventory item to purchase."
   ]
  },
  {
   "cell_type": "markdown",
   "metadata": {},
   "source": [
    "code:\n",
    "\n",
    "    select T1.store_id,sum,cost,sum-cost as profit\n",
    "    from\n",
    "    (select store_id,sum(amount)\n",
    "    from payment P, Inventory I, rental R\n",
    "    where P.rental_id = R.rental_id and R.inventory_id = I.inventory_id\n",
    "    group by store_id ) as T1,\n",
    "\n",
    "    (select store_id,count(*)*15 as cost\n",
    "     from inventory\n",
    "     group by store_id\n",
    "    ) as T2\n",
    "\n",
    "    where T1.store_id = T2.store_id"
   ]
  },
  {
   "cell_type": "markdown",
   "metadata": {},
   "source": [
    "![q4](img/hw4/q6.png \"q4\")"
   ]
  },
  {
   "cell_type": "code",
   "execution_count": null,
   "metadata": {
    "collapsed": true
   },
   "outputs": [],
   "source": []
  }
 ],
 "metadata": {
  "anaconda-cloud": {},
  "kernelspec": {
   "display_name": "Python [Root]",
   "language": "python",
   "name": "Python [Root]"
  },
  "language_info": {
   "codemirror_mode": {
    "name": "ipython",
    "version": 2
   },
   "file_extension": ".py",
   "mimetype": "text/x-python",
   "name": "python",
   "nbconvert_exporter": "python",
   "pygments_lexer": "ipython2",
   "version": "2.7.12"
  }
 },
 "nbformat": 4,
 "nbformat_minor": 0
}
